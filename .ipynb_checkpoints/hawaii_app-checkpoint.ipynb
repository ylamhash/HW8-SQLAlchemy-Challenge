{
 "cells": [
  {
   "cell_type": "code",
   "execution_count": 1,
   "metadata": {},
   "outputs": [],
   "source": [
    "# A Flask API based on the hawaii database"
   ]
  },
  {
   "cell_type": "code",
   "execution_count": 2,
   "metadata": {},
   "outputs": [],
   "source": [
    "# Dependencies\n",
    "import sqlalchemy\n",
    "from sqlalchemy.ext.automap import automap_base\n",
    "from sqlalchemy.orm import Session\n",
    "from sqlalchemy import create_engine, func\n",
    "import datetime as dt\n",
    "from datetime import datetime,timedelta\n",
    "import pandas as pd\n",
    "import matplotlib.pyplot as plt\n",
    "import matplotlib as mpl\n",
    "import seaborn as sns\n",
    "import matplotlib.dates as mdates\n",
    "import pprint\n",
    "from flask import Flask, jsonify\n",
    "import numpy as np"
   ]
  },
  {
   "cell_type": "code",
   "execution_count": 3,
   "metadata": {},
   "outputs": [],
   "source": [
    "# Create engine connection\n",
    "engine = create_engine(\"sqlite:///hawaii.sqlite\", connect_args={'check_same_thread':False})\n",
    "#conn = engine.connect()"
   ]
  },
  {
   "cell_type": "code",
   "execution_count": 4,
   "metadata": {},
   "outputs": [],
   "source": [
    "# Declare a Base using `automap_base()`\n",
    "Base = automap_base()"
   ]
  },
  {
   "cell_type": "code",
   "execution_count": 5,
   "metadata": {},
   "outputs": [],
   "source": [
    "# Use the Base class to reflect the database tables\n",
    "Base.prepare(engine, reflect=True)"
   ]
  },
  {
   "cell_type": "code",
   "execution_count": 6,
   "metadata": {},
   "outputs": [],
   "source": [
    "# Assign the classes to variables\n",
    "Measurement = Base.classes.measurement\n",
    "Station = Base.classes.station"
   ]
  },
  {
   "cell_type": "code",
   "execution_count": 7,
   "metadata": {},
   "outputs": [],
   "source": [
    "# Create a session\n",
    "session = Session(engine)"
   ]
  },
  {
   "cell_type": "code",
   "execution_count": 8,
   "metadata": {},
   "outputs": [
    {
     "name": "stdout",
     "output_type": "stream",
     "text": [
      "The last date of record is 2017-08-23.\n"
     ]
    }
   ],
   "source": [
    "# Find the latest date of record\n",
    "latest = session.query(Measurement.date).order_by(Measurement.date.desc()).first()[0]\n",
    "print(f\"The last date of record is {latest}.\")"
   ]
  },
  {
   "cell_type": "code",
   "execution_count": 9,
   "metadata": {},
   "outputs": [
    {
     "name": "stdout",
     "output_type": "stream",
     "text": [
      "<class 'datetime.datetime'>\n",
      "Therefore, query begins on 2017-08-23 00:00:00.\n"
     ]
    }
   ],
   "source": [
    "# Latest is currently a string. Convert \"latest\" to time object\n",
    "latest_str = '2017-08-23'\n",
    "latest_object = datetime.strptime(latest_str, '%Y-%m-%d')\n",
    "print(type(latest_object))\n",
    "print(f\"Therefore, query begins on {latest_object}.\")"
   ]
  },
  {
   "cell_type": "code",
   "execution_count": 10,
   "metadata": {},
   "outputs": [],
   "source": [
    "# Date 12 months before the last date of record\n",
    "date_start_query = (latest_object - dt.timedelta(days=365))"
   ]
  },
  {
   "cell_type": "code",
   "execution_count": 11,
   "metadata": {},
   "outputs": [],
   "source": [
    "# Flask Setup\n",
    "app = Flask(__name__)"
   ]
  },
  {
   "cell_type": "code",
   "execution_count": 12,
   "metadata": {},
   "outputs": [],
   "source": [
    "@app.route(\"/\")\n",
    "def Welcome():\n",
    "    \"\"\"List all available api routes.\"\"\"\n",
    "    return (\n",
    "        f\"Available Routes:<br/>\"\n",
    "        f\"/api/v1.0/precipitation<br/>\"\n",
    "        f\"/api/v1.0/stations<br/>\"\n",
    "        f\"/api/v1.0/&ltstart&gt, for example, /api/v1.0/2017-01-01<br/>\"\n",
    "        f\"/api/v1.0/&ltstart&gt/&ltend&gt, for example, /api/v1.0/2017-01-01/2017-01-04\"\n",
    "    )"
   ]
  },
  {
   "cell_type": "code",
   "execution_count": 13,
   "metadata": {},
   "outputs": [],
   "source": [
    "# Route /api/v1.0/precipitation\n",
    "@app.route(\"/api/v1.0/precipitation\")\n",
    "def precipitation():\n",
    "    \n",
    "    \"\"\"\n",
    "    Return dates and precipitation observations from the last year\n",
    "    \"\"\"\n",
    "    \n",
    "    results = session.query(Measurement.date, func.avg(Measurement.prcp)).filter(Measurement.date>=date_start_query).group_by(Measurement.date).all()\n",
    "\n",
    "    results_list = []\n",
    "    for date, prcp in results:\n",
    "        results_list.append({str(date): prcp})\n",
    "    return jsonify(results_list)"
   ]
  },
  {
   "cell_type": "code",
   "execution_count": 14,
   "metadata": {},
   "outputs": [],
   "source": [
    "# Route /api/v1.0/stations\n",
    "@app.route(\"/api/v1.0/stations\")\n",
    "def station():\n",
    "    \n",
    "    \"\"\"\n",
    "    Return stations\n",
    "    \"\"\"\n",
    "    \n",
    "    results = session.query(Station.station).all()\n",
    "    results_list = list(np.ravel(results))\n",
    "\n",
    "    return jsonify(results_list)"
   ]
  },
  {
   "cell_type": "code",
   "execution_count": 15,
   "metadata": {},
   "outputs": [],
   "source": [
    "# Route /api/v1.0/tobs\n",
    "@app.route(\"/api/v1.0/tobs\")\n",
    "def tobs():\n",
    "    \n",
    "    \"\"\"\n",
    "    Return dates and temperature observations from the last year\n",
    "    \"\"\"\n",
    "    \n",
    "    results = session.query(Measurement.date, func.avg(Measurement.tobs)). \\\n",
    "                filter(Measurement.date>=date_start_query). \\\n",
    "                group_by(Measurement.date).all()\n",
    "\n",
    "    results_list = []\n",
    "    for date, temp in results:\n",
    "        results_list.append({str(date): temp})\n",
    "    return jsonify(results_list)"
   ]
  },
  {
   "cell_type": "code",
   "execution_count": 16,
   "metadata": {},
   "outputs": [],
   "source": [
    "# Route /api/v1.0/<start>\n",
    "# Route /api/v1.0/<start>/<end>\n",
    "@app.route(\"/api/v1.0/<start>\")\n",
    "@app.route(\"/api/v1.0/<start>/<end>\")\n",
    "def start_end(start, end=latest):\n",
    "\n",
    "    '''\n",
    "    Return the minimum temperature, the average temperature, and the max temperature for a given start or start-end range\n",
    "    '''\n",
    "\n",
    "    start_date_dt = dt.datetime.strptime(start, '%Y-%m-%d')\n",
    "    if end == latest:\n",
    "        end_date_dt = end\n",
    "    else:\n",
    "        end_date_dt = dt.datetime.strptime(end, '%Y-%m-%d')\n",
    "\n",
    "    sel = [func.min(Measurement.tobs), func.avg(Measurement.tobs), func.max(Measurement.tobs)]\n",
    "    temps = session.query(*sel). \\\n",
    "                filter(Measurement.date>=start_date_dt). \\\n",
    "                filter(Measurement.date<=end_date_dt).all()[0]\n",
    "    \n",
    "    results_list = [{\"temp_min\": temps[0]}, \n",
    "                    {\"temp_avg\": temps[1]}, \n",
    "                    {\"temp_max\": temps[2]}]\n",
    "    return jsonify(results_list)"
   ]
  },
  {
   "cell_type": "code",
   "execution_count": 17,
   "metadata": {},
   "outputs": [
    {
     "name": "stdout",
     "output_type": "stream",
     "text": [
      " * Serving Flask app \"__main__\" (lazy loading)\n",
      " * Environment: production\n",
      "   WARNING: This is a development server. Do not use it in a production deployment.\n",
      "   Use a production WSGI server instead.\n",
      " * Debug mode: on\n"
     ]
    },
    {
     "name": "stderr",
     "output_type": "stream",
     "text": [
      " * Running on http://127.0.0.1:5000/ (Press CTRL+C to quit)\n",
      " * Restarting with stat\n"
     ]
    },
    {
     "ename": "SystemExit",
     "evalue": "1",
     "output_type": "error",
     "traceback": [
      "An exception has occurred, use %tb to see the full traceback.\n",
      "\u001b[0;31mSystemExit\u001b[0m\u001b[0;31m:\u001b[0m 1\n"
     ]
    },
    {
     "name": "stderr",
     "output_type": "stream",
     "text": [
      "/opt/anaconda3/lib/python3.7/site-packages/IPython/core/interactiveshell.py:3334: UserWarning: To exit: use 'exit', 'quit', or Ctrl-D.\n",
      "  warn(\"To exit: use 'exit', 'quit', or Ctrl-D.\", stacklevel=1)\n"
     ]
    }
   ],
   "source": [
    "if __name__ == '__main__':\n",
    "    app.run(debug=True)"
   ]
  },
  {
   "cell_type": "code",
   "execution_count": null,
   "metadata": {},
   "outputs": [],
   "source": []
  }
 ],
 "metadata": {
  "kernelspec": {
   "display_name": "Python 3",
   "language": "python",
   "name": "python3"
  },
  "language_info": {
   "codemirror_mode": {
    "name": "ipython",
    "version": 3
   },
   "file_extension": ".py",
   "mimetype": "text/x-python",
   "name": "python",
   "nbconvert_exporter": "python",
   "pygments_lexer": "ipython3",
   "version": "3.7.4"
  }
 },
 "nbformat": 4,
 "nbformat_minor": 2
}
