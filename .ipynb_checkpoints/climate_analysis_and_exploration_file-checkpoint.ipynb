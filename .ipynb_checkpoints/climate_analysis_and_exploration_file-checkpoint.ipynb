{
 "cells": [
  {
   "cell_type": "markdown",
   "metadata": {},
   "source": [
    "# Climate Analysis and Exploration"
   ]
  },
  {
   "cell_type": "markdown",
   "metadata": {},
   "source": [
    "### Import Dependencies"
   ]
  },
  {
   "cell_type": "code",
   "execution_count": 27,
   "metadata": {},
   "outputs": [],
   "source": [
    "import pandas as pd\n",
    "import numpy as np\n",
    "\n",
    "%matplotlib inline\n",
    "from matplotlib import style\n",
    "style.use('fivethirtyeight')\n",
    "import matplotlib.pyplot as plt\n",
    "import matplotlib as mpl\n",
    "import seaborn as sns\n",
    "import matplotlib.dates as mdates\n",
    "\n",
    "import datetime as dt\n",
    "from datetime import datetime,timedelta\n",
    "\n",
    "import sqlalchemy\n",
    "from sqlalchemy.ext.automap import automap_base\n",
    "from sqlalchemy.orm import Session\n",
    "from sqlalchemy import create_engine, func, inspect\n",
    "\n",
    "import pprint"
   ]
  },
  {
   "cell_type": "markdown",
   "metadata": {},
   "source": [
    "### Connect database\n",
    "#### 1. Connect to the sqlite database\n",
    "#### 2. Reflect tables into classes and save a reference to those classes\n",
    "#### 3. View the classes\n",
    "#### 4. Assign variables to the classes\n",
    "#### 5. Create a session"
   ]
  },
  {
   "cell_type": "code",
   "execution_count": 28,
   "metadata": {},
   "outputs": [],
   "source": [
    "# Connect engine to hawaii.sqlite file\n",
    "engine = create_engine('sqlite:///hawaii.sqlite')\n",
    "conn = engine.connect()\n",
    "\n",
    "# Reflect an existing database into a new model\n",
    "Base = automap_base()\n",
    "\n",
    "# Reflect the tables\n",
    "Base.prepare(engine, reflect=True)\n",
    "\n",
    "# View all of the classes that automap found\n",
    "Base.classes.keys()\n",
    "\n",
    "# Save references to each table\n",
    "Measurement = Base.classes.measurement\n",
    "Station = Base.classes.station\n",
    "\n",
    "# Create our session (link) from Python to the DB\n",
    "session = Session(engine)"
   ]
  },
  {
   "cell_type": "markdown",
   "metadata": {},
   "source": [
    "### Precipitation Analysis\n",
    "#### 1. Design a query to retrieve the last 12 months of precipitation data and plot the results\n",
    "#### 2. Calculate the date 1 year ago from the last data point in the database\n",
    "#### 3. Perform a query to retrieve the data and precipitation scores\n",
    "#### 4. Save the query results as a Pandas DataFrame and set the index to the date column\n",
    "#### 5. Sort the dataframe by date\n",
    "#### 6. Use Pandas Plotting with Matplotlib to plot the data"
   ]
  },
  {
   "cell_type": "markdown",
   "metadata": {},
   "source": [
    "##### 2. Calculate the date 1 year ago from the last data point in the database"
   ]
  },
  {
   "cell_type": "code",
   "execution_count": 29,
   "metadata": {},
   "outputs": [
    {
     "name": "stdout",
     "output_type": "stream",
     "text": [
      "The last date of record is 2017-08-23.\n"
     ]
    }
   ],
   "source": [
    "# Find the latest date of record\n",
    "latest = session.query(Measurement.date).order_by(Measurement.date.desc()).first()[0]\n",
    "print(f\"The last date of record is {latest}.\")"
   ]
  },
  {
   "cell_type": "code",
   "execution_count": 30,
   "metadata": {},
   "outputs": [
    {
     "name": "stdout",
     "output_type": "stream",
     "text": [
      "<class 'datetime.datetime'>\n",
      "Therefore, query begins on 2017-08-23 00:00:00.\n"
     ]
    }
   ],
   "source": [
    "# Latest is currently a string. Convert \"latest\" to time object\n",
    "latest_str = '2017-08-23'\n",
    "latest_object = datetime.strptime(latest_str, '%Y-%m-%d')\n",
    "print(type(latest_object))\n",
    "print(f\"Therefore, query begins on {latest_object}.\")"
   ]
  },
  {
   "cell_type": "code",
   "execution_count": 31,
   "metadata": {
    "scrolled": true
   },
   "outputs": [
    {
     "name": "stdout",
     "output_type": "stream",
     "text": [
      "Therefore, query begins on 2016-08-23 00:00:00.\n"
     ]
    }
   ],
   "source": [
    "# Date 12 months before the last date of record\n",
    "previous_year_query = (latest_object - dt.timedelta(days=365))\n",
    "print(f\"Therefore, query begins on {previous_year_query}.\")"
   ]
  },
  {
   "cell_type": "markdown",
   "metadata": {},
   "source": [
    "##### 3. Perform a query to retrieve the data and precipitation scores"
   ]
  },
  {
   "cell_type": "markdown",
   "metadata": {},
   "source": [
    "Note: We did not specify a station for this analysis. Therefore:"
   ]
  },
  {
   "cell_type": "markdown",
   "metadata": {},
   "source": [
    "1. For visualization, precipitation values were averaged across stations for each day in the record.\n",
    "2. For statistics, raw precipitation values were used.  \n",
    "    "
   ]
  },
  {
   "cell_type": "code",
   "execution_count": 32,
   "metadata": {},
   "outputs": [
    {
     "data": {
      "text/html": [
       "<div>\n",
       "<style scoped>\n",
       "    .dataframe tbody tr th:only-of-type {\n",
       "        vertical-align: middle;\n",
       "    }\n",
       "\n",
       "    .dataframe tbody tr th {\n",
       "        vertical-align: top;\n",
       "    }\n",
       "\n",
       "    .dataframe thead th {\n",
       "        text-align: right;\n",
       "    }\n",
       "</style>\n",
       "<table border=\"1\" class=\"dataframe\">\n",
       "  <thead>\n",
       "    <tr style=\"text-align: right;\">\n",
       "      <th></th>\n",
       "      <th>prcp</th>\n",
       "    </tr>\n",
       "    <tr>\n",
       "      <th>date</th>\n",
       "      <th></th>\n",
       "    </tr>\n",
       "  </thead>\n",
       "  <tbody>\n",
       "    <tr>\n",
       "      <td>2016-08-23</td>\n",
       "      <td>0.451667</td>\n",
       "    </tr>\n",
       "    <tr>\n",
       "      <td>2016-08-24</td>\n",
       "      <td>1.555000</td>\n",
       "    </tr>\n",
       "    <tr>\n",
       "      <td>2016-08-25</td>\n",
       "      <td>0.077143</td>\n",
       "    </tr>\n",
       "    <tr>\n",
       "      <td>2016-08-26</td>\n",
       "      <td>0.016667</td>\n",
       "    </tr>\n",
       "    <tr>\n",
       "      <td>2016-08-27</td>\n",
       "      <td>0.064000</td>\n",
       "    </tr>\n",
       "  </tbody>\n",
       "</table>\n",
       "</div>"
      ],
      "text/plain": [
       "                prcp\n",
       "date                \n",
       "2016-08-23  0.451667\n",
       "2016-08-24  1.555000\n",
       "2016-08-25  0.077143\n",
       "2016-08-26  0.016667\n",
       "2016-08-27  0.064000"
      ]
     },
     "execution_count": 32,
     "metadata": {},
     "output_type": "execute_result"
    }
   ],
   "source": [
    "# Query date and prcp\n",
    "date_prcp = pd.read_sql(\"select date, prcp from measurement \\\n",
    "                        where date >= '2016-08-23';\", conn)\n",
    "\n",
    "# Average prcp across stations\n",
    "date_prcp_avg = date_prcp.groupby([\"date\"]).mean()\n",
    "date_prcp_avg.head()"
   ]
  },
  {
   "cell_type": "markdown",
   "metadata": {},
   "source": [
    "##### 4. Save the query results as a Pandas DataFrame and set the index to the date column"
   ]
  },
  {
   "cell_type": "code",
   "execution_count": 33,
   "metadata": {},
   "outputs": [
    {
     "data": {
      "text/html": [
       "<div>\n",
       "<style scoped>\n",
       "    .dataframe tbody tr th:only-of-type {\n",
       "        vertical-align: middle;\n",
       "    }\n",
       "\n",
       "    .dataframe tbody tr th {\n",
       "        vertical-align: top;\n",
       "    }\n",
       "\n",
       "    .dataframe thead th {\n",
       "        text-align: right;\n",
       "    }\n",
       "</style>\n",
       "<table border=\"1\" class=\"dataframe\">\n",
       "  <thead>\n",
       "    <tr style=\"text-align: right;\">\n",
       "      <th></th>\n",
       "      <th>date</th>\n",
       "      <th>precipitation</th>\n",
       "    </tr>\n",
       "  </thead>\n",
       "  <tbody>\n",
       "    <tr>\n",
       "      <td>0</td>\n",
       "      <td>2016-08-23</td>\n",
       "      <td>NaN</td>\n",
       "    </tr>\n",
       "    <tr>\n",
       "      <td>1</td>\n",
       "      <td>2016-08-24</td>\n",
       "      <td>NaN</td>\n",
       "    </tr>\n",
       "    <tr>\n",
       "      <td>2</td>\n",
       "      <td>2016-08-25</td>\n",
       "      <td>NaN</td>\n",
       "    </tr>\n",
       "    <tr>\n",
       "      <td>3</td>\n",
       "      <td>2016-08-26</td>\n",
       "      <td>NaN</td>\n",
       "    </tr>\n",
       "    <tr>\n",
       "      <td>4</td>\n",
       "      <td>2016-08-27</td>\n",
       "      <td>NaN</td>\n",
       "    </tr>\n",
       "  </tbody>\n",
       "</table>\n",
       "</div>"
      ],
      "text/plain": [
       "         date  precipitation\n",
       "0  2016-08-23            NaN\n",
       "1  2016-08-24            NaN\n",
       "2  2016-08-25            NaN\n",
       "3  2016-08-26            NaN\n",
       "4  2016-08-27            NaN"
      ]
     },
     "execution_count": 33,
     "metadata": {},
     "output_type": "execute_result"
    }
   ],
   "source": [
    "# Save the query as a dataframe\n",
    "df = pd.DataFrame(date_prcp, columns=['date', 'precipitation'])\n",
    "df.set_index('date')\n",
    "df.head()"
   ]
  },
  {
   "cell_type": "markdown",
   "metadata": {},
   "source": [
    "##### 5. Sort the dataframe by date"
   ]
  },
  {
   "cell_type": "code",
   "execution_count": 34,
   "metadata": {},
   "outputs": [],
   "source": [
    "# Sort the dataframe by date\n",
    "df = df.sort_values('date')"
   ]
  },
  {
   "cell_type": "markdown",
   "metadata": {},
   "source": [
    "##### 6. Use Pandas Plotting with Matplotlib to plot the data"
   ]
  },
  {
   "cell_type": "code",
   "execution_count": 35,
   "metadata": {},
   "outputs": [
    {
     "data": {
      "image/png": "[encoded data removed]",
      "text/plain": [
       "<Figure size 800x400 with 1 Axes>"
      ]
     },
     "metadata": {},
     "output_type": "display_data"
    }
   ],
   "source": [
    "mpl.rcParams['figure.dpi']= 100\n",
    "mpl.rcParams['font.family'] = 'sans-serif'\n",
    "mpl.rcParams['font.sans-serif'] = ['Arial']\n",
    "\n",
    "#Plot data\n",
    "plt.figure(figsize=(8,4))\n",
    "plt.bar(pd.to_datetime(date_prcp_avg.index), date_prcp_avg[\"prcp\"], color=\"darkorange\", \n",
    "        width=2, label=\"precipitation\")\n",
    "plt.gca().set_facecolor(\"whitesmoke\")\n",
    "\n",
    "# Format x-tick label\n",
    "plt.gca().xaxis.set_major_locator(mdates.MonthLocator(interval=2))\n",
    "plt.gca().xaxis.set_major_formatter(mdates.DateFormatter('%Y-%m-%d'))\n",
    "plt.xticks(rotation=45, ha=\"right\")\n",
    "\n",
    "# Other formatting\n",
    "plt.xlabel(\"Date\")\n",
    "plt.ylabel(\"Precipitation\")\n",
    "plt.title(\"Precipitation Over time\")\n",
    "plt.legend(frameon=True, facecolor=\"whitesmoke\")\n",
    "plt.grid(linestyle='-', linewidth='0.5', color='lightgrey')"
   ]
  },
  {
   "cell_type": "markdown",
   "metadata": {},
   "source": [
    "### Use Pandas to calculate the summary statistics for the precipitation data"
   ]
  },
  {
   "cell_type": "code",
   "execution_count": 36,
   "metadata": {},
   "outputs": [
    {
     "data": {
      "text/html": [
       "<div>\n",
       "<style scoped>\n",
       "    .dataframe tbody tr th:only-of-type {\n",
       "        vertical-align: middle;\n",
       "    }\n",
       "\n",
       "    .dataframe tbody tr th {\n",
       "        vertical-align: top;\n",
       "    }\n",
       "\n",
       "    .dataframe thead th {\n",
       "        text-align: right;\n",
       "    }\n",
       "</style>\n",
       "<table border=\"1\" class=\"dataframe\">\n",
       "  <thead>\n",
       "    <tr style=\"text-align: right;\">\n",
       "      <th></th>\n",
       "      <th>prcp</th>\n",
       "    </tr>\n",
       "  </thead>\n",
       "  <tbody>\n",
       "    <tr>\n",
       "      <td>count</td>\n",
       "      <td>2021.000000</td>\n",
       "    </tr>\n",
       "    <tr>\n",
       "      <td>mean</td>\n",
       "      <td>0.177279</td>\n",
       "    </tr>\n",
       "    <tr>\n",
       "      <td>std</td>\n",
       "      <td>0.461190</td>\n",
       "    </tr>\n",
       "    <tr>\n",
       "      <td>min</td>\n",
       "      <td>0.000000</td>\n",
       "    </tr>\n",
       "    <tr>\n",
       "      <td>25%</td>\n",
       "      <td>0.000000</td>\n",
       "    </tr>\n",
       "    <tr>\n",
       "      <td>50%</td>\n",
       "      <td>0.020000</td>\n",
       "    </tr>\n",
       "    <tr>\n",
       "      <td>75%</td>\n",
       "      <td>0.130000</td>\n",
       "    </tr>\n",
       "    <tr>\n",
       "      <td>max</td>\n",
       "      <td>6.700000</td>\n",
       "    </tr>\n",
       "  </tbody>\n",
       "</table>\n",
       "</div>"
      ],
      "text/plain": [
       "              prcp\n",
       "count  2021.000000\n",
       "mean      0.177279\n",
       "std       0.461190\n",
       "min       0.000000\n",
       "25%       0.000000\n",
       "50%       0.020000\n",
       "75%       0.130000\n",
       "max       6.700000"
      ]
     },
     "execution_count": 36,
     "metadata": {},
     "output_type": "execute_result"
    }
   ],
   "source": [
    "date_prcp.describe()"
   ]
  },
  {
   "cell_type": "markdown",
   "metadata": {},
   "source": [
    "### Station Analysis\n",
    "#### 1. Design a query to show how many stations are available in this dataset?\n",
    "#### 2. What are the most active stations? (i.e. what stations have the most rows)?\n",
    "#### 3. List the stations and the counts in descending order.\n",
    "#### 4. Using the station id from the previous query, calculate the lowest temperature recorded, highest temperature recorded, and average temperature of the most active station?\n",
    "#### 5. Choose the station with the highest number of temperature observations.\n",
    "#### 6. Query the last 12 months of temperature observation data for this station and plot the results as a histogram"
   ]
  },
  {
   "cell_type": "markdown",
   "metadata": {},
   "source": [
    "#### 1. Design a query to show how many stations are available in this dataset?"
   ]
  },
  {
   "cell_type": "code",
   "execution_count": 37,
   "metadata": {},
   "outputs": [
    {
     "name": "stdout",
     "output_type": "stream",
     "text": [
      "There are 9 stations in total.\n"
     ]
    }
   ],
   "source": [
    "# Query number of stations\n",
    "number_of_stations = session.query(func.count(Station.station)).all()[0][0]\n",
    "print(f\"There are {number_of_stations} stations in total.\")"
   ]
  },
  {
   "cell_type": "markdown",
   "metadata": {},
   "source": [
    "#### 2. What are the most active stations? (i.e. what stations have the most rows)?\n",
    "#### 3. List the stations and the counts in descending order."
   ]
  },
  {
   "cell_type": "code",
   "execution_count": 38,
   "metadata": {},
   "outputs": [
    {
     "name": "stdout",
     "output_type": "stream",
     "text": [
      "[('USC00519281', 2772),\n",
      " ('USC00513117', 2696),\n",
      " ('USC00519397', 2685),\n",
      " ('USC00519523', 2572),\n",
      " ('USC00516128', 2484),\n",
      " ('USC00514830', 1937),\n",
      " ('USC00511918', 1932),\n",
      " ('USC00517948', 683),\n",
      " ('USC00518838', 342)]\n"
     ]
    }
   ],
   "source": [
    "# Query most active station\n",
    "# List the stations and counts in descending order\n",
    "most_active_stations = session.query(Measurement.station, func.count(Measurement.prcp)). \\\n",
    "                    group_by(Measurement.station). \\\n",
    "                    order_by(func.count(Measurement.prcp).desc()).all()\n",
    "pprint.pprint(most_active_stations)"
   ]
  },
  {
   "cell_type": "markdown",
   "metadata": {},
   "source": [
    "#### 4. Using the station id from the previous query, calculate the lowest temperature recorded, highest temperature recorded, and average temperature of the most active station?"
   ]
  },
  {
   "cell_type": "code",
   "execution_count": 39,
   "metadata": {},
   "outputs": [
    {
     "data": {
      "text/plain": [
       "[(54.0, 85.0, 71.66378066378067)]"
      ]
     },
     "execution_count": 39,
     "metadata": {},
     "output_type": "execute_result"
    }
   ],
   "source": [
    "session.query(func.min(Measurement.tobs), func.max(Measurement.tobs), func.avg(Measurement.tobs)).\\\n",
    "filter(Measurement.station == 'USC00519281').all()"
   ]
  },
  {
   "cell_type": "markdown",
   "metadata": {},
   "source": [
    "#### 5. Choose the station with the highest number of temperature observations."
   ]
  },
  {
   "cell_type": "code",
   "execution_count": 40,
   "metadata": {},
   "outputs": [
    {
     "name": "stdout",
     "output_type": "stream",
     "text": [
      "\n",
      "Station USC00519281 has the highest number of observations.\n"
     ]
    }
   ],
   "source": [
    "print(f\"\\nStation {most_active_stations[0][0]} has the highest number of observations.\")"
   ]
  },
  {
   "cell_type": "markdown",
   "metadata": {},
   "source": [
    "#### 6. Query the last 12 months of temperature observation data for this station and plot the results as a histogram"
   ]
  },
  {
   "cell_type": "code",
   "execution_count": 41,
   "metadata": {},
   "outputs": [
    {
     "data": {
      "image/png": "[encoded data removed]",
      "text/plain": [
       "<Figure size 600x400 with 1 Axes>"
      ]
     },
     "metadata": {},
     "output_type": "display_data"
    }
   ],
   "source": [
    "# Query temperatures\n",
    "tobs_raw = session.query(Measurement.tobs). \\\n",
    "    filter(Measurement.date >= previous_year_query). \\\n",
    "    filter(Measurement.station == most_active_stations[0][0]).all()\n",
    "\n",
    "# Store temperatures in a list\n",
    "tobs = [temp[0] for temp in tobs_raw]\n",
    "\n",
    "# Plot\n",
    "plt.hist(tobs, bins=12, label=\"temperature\")\n",
    "plt.gca().set_facecolor(\"whitesmoke\")\n",
    "plt.xlabel(\"Temperature\")\n",
    "plt.ylabel(\"Frequency\")\n",
    "plt.title(f\"Temperature Frequency at Station {most_active_stations[0][0]}\")\n",
    "plt.legend(frameon=True, facecolor=\"whitesmoke\")\n",
    "plt.grid(linestyle='-', linewidth='0.5', color='lightgrey')\n",
    "plt.gca().set_axisbelow(True)\n",
    "plt.savefig('Resources/temp_hist.png', bbox_inches=\"tight\", dpi = 300)"
   ]
  },
  {
   "cell_type": "markdown",
   "metadata": {},
   "source": [
    "# Bonus Analysis / Temperature Analysis"
   ]
  },
  {
   "cell_type": "markdown",
   "metadata": {},
   "source": [
    "### Temperature Analysis\n",
    "#### 1. Use your previous function `calc_temps` to calculate the tmin, tavg, and tmax for your trip using the previous year's data for those same dates. \n",
    "#### 2. Plot the results from your previous query as a bar chart.\n",
    "####    - Use \"Trip Avg Temp\" as your Title\n",
    "####    - Use the average temperature for the y value\n",
    "####    - Use the peak-to-peak (tmax-tmin) value as the y error bar (yerr)\n",
    "#### 3. Calculate the total amount of rainfall per weather station for your trip dates using the previous year's matching dates.\n",
    "#### 4. Sort this in descending order by precipitation amount and list the station, name, latitude, longitude, and elevation\n",
    "#### 5. Create a query that will calculate the daily normals (i.e. the averages for tmin, tmax, and tavg for all historic data matching a specific month and day)\n",
    "#### 6. Calculate the daily normals for your trip\n",
    "#### 7. Push each tuple of calculations into a list called `normals`\n",
    "#### 8. Set the start and end date of the trip\n",
    "#### 9. Use the start and end date to create a range of dates\n",
    "#### 10.Stip off the year and save a list of %m-%d strings\n",
    "#### 11.Loop through the list of %m-%d strings and calculate the normals for each date\n",
    "#### 12.Load the previous query results into a Pandas DataFrame and add the `trip_dates` range as the `date` index\n",
    "#### 13.Plot the daily normals as an area plot with `stacked=False`"
   ]
  },
  {
   "cell_type": "code",
   "execution_count": 42,
   "metadata": {},
   "outputs": [
    {
     "name": "stdout",
     "output_type": "stream",
     "text": [
      "[(62.0, 69.57142857142857, 74.0)]\n"
     ]
    }
   ],
   "source": [
    "# This function called `calc_temps` will accept start date and end date in the format '%Y-%m-%d' \n",
    "# and return the minimum, average, and maximum temperatures for that range of dates\n",
    "def calc_temps(start_date, end_date):\n",
    "    \"\"\"TMIN, TAVG, and TMAX for a list of dates.\n",
    "    \n",
    "    Args:\n",
    "        start_date (string): A date string in the format %Y-%m-%d\n",
    "        end_date (string): A date string in the format %Y-%m-%d\n",
    "        \n",
    "    Returns:\n",
    "        TMIN, TAVE, and TMAX\n",
    "    \"\"\"\n",
    "    \n",
    "    return session.query(func.min(Measurement.tobs), func.avg(Measurement.tobs), func.max(Measurement.tobs)).\\\n",
    "        filter(Measurement.date >= start_date).filter(Measurement.date <= end_date).all()\n",
    "\n",
    "# function usage example\n",
    "print(calc_temps('2012-02-28', '2012-03-05'))"
   ]
  },
  {
   "cell_type": "markdown",
   "metadata": {},
   "source": [
    "#### 1. Use your previous function calc_temps to calculate the tmin, tavg, and tmax for your trip using the previous year's data for those same dates."
   ]
  },
  {
   "cell_type": "code",
   "execution_count": null,
   "metadata": {},
   "outputs": [],
   "source": [
    "# Use the 'calc_temps' function\n",
    "def calc_temps(start_date, end_date):\n",
    "    \n",
    "    '''\n",
    "    inputs \n",
    "    start_date (str): trip start date in the format %Y-%m-%d\n",
    "    end_date (str): trip end date in the format %Y-%m-%d\n",
    "    \n",
    "    outputs:\n",
    "    temps (tuple): tuple of min, mean, and max temperatures for that range of dates\n",
    "    '''\n",
    "    \n",
    "    start_date_dt = dt.datetime.strptime(start_date, '%Y-%m-%d')\n",
    "    end_date_dt = dt.datetime.strptime(end_date, '%Y-%m-%d')\n",
    "\n",
    "    sel = [func.min(Measurement.tobs), func.avg(Measurement.tobs), func.max(Measurement.tobs)]\n",
    "    temps = session.query(*sel). \\\n",
    "                filter(Measurement.date>=start_date_dt). \\\n",
    "                filter(Measurement.date<=end_date_dt).all()[0]\n",
    "    \n",
    "    return temps"
   ]
  },
  {
   "cell_type": "code",
   "execution_count": 44,
   "metadata": {},
   "outputs": [
    {
     "name": "stdout",
     "output_type": "stream",
     "text": [
      "My trip starts on 2017-07-01 and ends on 2017-07-10. For the range of dates, the min temperature is 69.0, mean temperature is 78.21818181818182, and maximum temperature is 87.0.\n"
     ]
    }
   ],
   "source": [
    "# My trip\n",
    "start_date = \"2017-07-01\"\n",
    "end_date = \"2017-07-10\"\n",
    "[temp_min, temp_avg, temp_max] = calc_temps(start_date, end_date)\n",
    "\n",
    "print(f\"My trip starts on {start_date} and ends on {end_date}. \\\n",
    "For the range of dates, the min temperature is {temp_min}, \\\n",
    "mean temperature is {temp_avg}, and maximum temperature is {temp_max}.\")"
   ]
  },
  {
   "cell_type": "markdown",
   "metadata": {},
   "source": [
    "#### 2. Plot the results from your previous query as a bar chart.\n",
    "####    - Use \"Trip Avg Temp\" as your Title\n",
    "####    - Use the average temperature for the y value\n",
    "####    - Use the peak-to-peak (tmax-tmin) value as the y error bar (yerr)"
   ]
  },
  {
   "cell_type": "code",
   "execution_count": 48,
   "metadata": {},
   "outputs": [
    {
     "data": {
      "image/png": "[encoded data removed]",
      "text/plain": [
       "<Figure size 200x500 with 1 Axes>"
      ]
     },
     "metadata": {},
     "output_type": "display_data"
    }
   ],
   "source": [
    "# Plot\n",
    "plt.figure(figsize=(2,5))\n",
    "plt.bar(0, temp_avg, color=\"lightsalmon\", width=1.4, \n",
    "        alpha=0.7, yerr=temp_max-temp_min, error_kw={\"linewidth\":2})\n",
    "plt.gca().set_facecolor(\"whitesmoke\")\n",
    "plt.grid(linestyle='-', linewidth='0.5', color='lightgrey')\n",
    "plt.gca().set_axisbelow(True)\n",
    "plt.gca().set_xticks([])\n",
    "plt.xlim((-1, 1))\n",
    "plt.ylim((0, 100))\n",
    "plt.ylabel(\"Temperature (F)\")\n",
    "plt.title(\"Trip Average Temperature\")\n",
    "plt.savefig('Resources/temp_avg.png', bbox_inches=\"tight\", dpi = 300)"
   ]
  },
  {
   "cell_type": "markdown",
   "metadata": {},
   "source": [
    "#### 3. Calculate the total amount of rainfall per weather station for your trip dates using the previous year's matching dates.\n",
    "#### 4. Sort this in descending order by precipitation amount and list the station, name, latitude, longitude, and elevation"
   ]
  },
  {
   "cell_type": "code",
   "execution_count": 55,
   "metadata": {},
   "outputs": [
    {
     "name": "stdout",
     "output_type": "stream",
     "text": [
      "[('USC00516128', 'MANOA LYON ARBO 785.2, HI US', 21.3331, -157.8025, 152.4, 1.26), ('USC00519281', 'WAIHEE 837.5, HI US', 21.45167, -157.84888999999998, 32.9, 0.6900000000000001), ('USC00513117', 'KANEOHE 838.1, HI US', 21.4234, -157.8015, 14.6, 0.33999999999999997), ('USC00519397', 'WAIKIKI 717.2, HI US', 21.2716, -157.8168, 3.0, 0.1), ('USC00514830', 'KUALOA RANCH HEADQUARTERS 886.9, HI US', 21.5213, -157.8374, 7.0, 0.06), ('USC00519523', 'WAIMANALO EXPERIMENTAL FARM, HI US', 21.33556, -157.71139, 19.5, 0.02), ('USC00517948', 'PEARL CITY, HI US', 21.3934, -157.9751, 11.9, None)]\n"
     ]
    }
   ],
   "source": [
    "# Average rainfall per weather station during the range of dates\n",
    "start_date_dt = dt.datetime.strptime(start_date, '%Y-%m-%d')\n",
    "end_date_dt = dt.datetime.strptime(end_date, '%Y-%m-%d')\n",
    "\n",
    "sel = [Station.station, Station.name, Station.latitude, Station.longitude, Station.elevation, func.sum(Measurement.prcp)]\n",
    "\n",
    "results = session.query(*sel).\\\n",
    "            filter(Measurement.station == Station.station). \\\n",
    "            filter(Measurement.date.between(start_date_dt, end_date_dt)). \\\n",
    "            group_by(Station.name). \\\n",
    "            order_by(func.sum(Measurement.prcp).desc()).all()\n",
    "print(results)"
   ]
  },
  {
   "cell_type": "markdown",
   "metadata": {},
   "source": [
    "#### 5. Create a query that will calculate the daily normals (i.e. the averages for tmin, tmax, and tavg for all historic data matching a specific month and day)\n",
    "#### 6. Calculate the daily normals for your trip\n",
    "#### 7. Push each tuple of calculations into a list called `normals`\n",
    "#### 8. Set the start and end date of the trip\n",
    "#### 9. Use the start and end date to create a range of dates\n",
    "#### 10.Strip off the year and save a list of %m-%d strings\n",
    "#### 11.Loop through the list of %m-%d strings and calculate the normals for each date\n",
    "#### 12.Load the previous query results into a Pandas DataFrame and add the `trip_dates` range as the `date` index"
   ]
  },
  {
   "cell_type": "code",
   "execution_count": 57,
   "metadata": {},
   "outputs": [
    {
     "data": {
      "text/plain": [
       "[(62.0, 69.15384615384616, 77.0)]"
      ]
     },
     "execution_count": 57,
     "metadata": {},
     "output_type": "execute_result"
    }
   ],
   "source": [
    "# Create a query that will calculate the daily normals \n",
    "# (i.e. the averages for tmin, tmax, and tavg for all historic data matching a specific month and day)\n",
    "\n",
    "def daily_normals(date):\n",
    "    \"\"\"Daily Normals.\n",
    "    \n",
    "    Args:\n",
    "        date (str): A date string in the format '%m-%d'\n",
    "        \n",
    "    Returns:\n",
    "        A list of tuples containing the daily normals, tmin, tavg, and tmax\n",
    "    \n",
    "    \"\"\"\n",
    "    \n",
    "    sel = [func.min(Measurement.tobs), func.avg(Measurement.tobs), func.max(Measurement.tobs)]\n",
    "    return session.query(*sel).filter(func.strftime(\"%m-%d\", Measurement.date) == date).all()\n",
    "    \n",
    "daily_normals(\"01-01\")"
   ]
  },
  {
   "cell_type": "code",
   "execution_count": 60,
   "metadata": {},
   "outputs": [],
   "source": [
    "# Create the 'daily norms' function\n",
    "def daily_normals(date1):\n",
    "    \n",
    "    '''\n",
    "    input\n",
    "    date1 (str): a specific date in the format %m-%d\n",
    "    \n",
    "    output\n",
    "    temps (tuple): tuple of min, avg, and max temperature of the specific date\n",
    "    '''\n",
    "    \n",
    "    sel = [func.min(Measurement.tobs), func.avg(Measurement.tobs), func.max(Measurement.tobs)]\n",
    "    temps = session.query(*sel). \\\n",
    "                    filter(func.date(Measurement.date).like(f'%{date1}%')).all()[0]\n",
    "    return temps"
   ]
  },
  {
   "cell_type": "code",
   "execution_count": 61,
   "metadata": {},
   "outputs": [
    {
     "data": {
      "text/html": [
       "<div>\n",
       "<style scoped>\n",
       "    .dataframe tbody tr th:only-of-type {\n",
       "        vertical-align: middle;\n",
       "    }\n",
       "\n",
       "    .dataframe tbody tr th {\n",
       "        vertical-align: top;\n",
       "    }\n",
       "\n",
       "    .dataframe thead th {\n",
       "        text-align: right;\n",
       "    }\n",
       "</style>\n",
       "<table border=\"1\" class=\"dataframe\">\n",
       "  <thead>\n",
       "    <tr style=\"text-align: right;\">\n",
       "      <th></th>\n",
       "      <th>min</th>\n",
       "      <th>avg</th>\n",
       "      <th>max</th>\n",
       "    </tr>\n",
       "  </thead>\n",
       "  <tbody>\n",
       "    <tr>\n",
       "      <td>07-01</td>\n",
       "      <td>67.0</td>\n",
       "      <td>74.777778</td>\n",
       "      <td>81.0</td>\n",
       "    </tr>\n",
       "    <tr>\n",
       "      <td>07-02</td>\n",
       "      <td>68.0</td>\n",
       "      <td>75.403846</td>\n",
       "      <td>82.0</td>\n",
       "    </tr>\n",
       "    <tr>\n",
       "      <td>07-03</td>\n",
       "      <td>68.0</td>\n",
       "      <td>75.320755</td>\n",
       "      <td>87.0</td>\n",
       "    </tr>\n",
       "    <tr>\n",
       "      <td>07-04</td>\n",
       "      <td>70.0</td>\n",
       "      <td>76.571429</td>\n",
       "      <td>81.0</td>\n",
       "    </tr>\n",
       "    <tr>\n",
       "      <td>07-05</td>\n",
       "      <td>66.0</td>\n",
       "      <td>75.000000</td>\n",
       "      <td>81.0</td>\n",
       "    </tr>\n",
       "    <tr>\n",
       "      <td>07-06</td>\n",
       "      <td>69.0</td>\n",
       "      <td>75.000000</td>\n",
       "      <td>81.0</td>\n",
       "    </tr>\n",
       "    <tr>\n",
       "      <td>07-07</td>\n",
       "      <td>69.0</td>\n",
       "      <td>74.910714</td>\n",
       "      <td>82.0</td>\n",
       "    </tr>\n",
       "  </tbody>\n",
       "</table>\n",
       "</div>"
      ],
      "text/plain": [
       "        min        avg   max\n",
       "07-01  67.0  74.777778  81.0\n",
       "07-02  68.0  75.403846  82.0\n",
       "07-03  68.0  75.320755  87.0\n",
       "07-04  70.0  76.571429  81.0\n",
       "07-05  66.0  75.000000  81.0\n",
       "07-06  69.0  75.000000  81.0\n",
       "07-07  69.0  74.910714  82.0"
      ]
     },
     "execution_count": 61,
     "metadata": {},
     "output_type": "execute_result"
    }
   ],
   "source": [
    "# Daily normals\n",
    "dates = [\"07-01\", \"07-02\", \"07-03\", \"07-04\", \"07-05\", \"07-06\", \"07-07\"]\n",
    "normals = [daily_normals(date1) for date1 in dates]\n",
    "\n",
    "# To dataframe\n",
    "df_normals = pd.DataFrame(normals, index=dates, columns=[\"min\", \"avg\", \"max\"])\n",
    "df_normals"
   ]
  },
  {
   "cell_type": "markdown",
   "metadata": {},
   "source": [
    "#### 13.Plot the daily normals as an area plot with `stacked=False`"
   ]
  },
  {
   "cell_type": "code",
   "execution_count": 64,
   "metadata": {},
   "outputs": [
    {
     "data": {
      "image/png": "[encoded data removed]",
      "text/plain": [
       "<Figure size 600x400 with 1 Axes>"
      ]
     },
     "metadata": {},
     "output_type": "display_data"
    }
   ],
   "source": [
    "# Plot\n",
    "df_normals.plot.area(stacked=False, color=[\"lightskyblue\", \"lightsalmon\", \"papayawhip\"])\n",
    "\n",
    "ax = plt.gca()\n",
    "ax.set_facecolor(\"whitesmoke\")\n",
    "\n",
    "# Format x-tick label\n",
    "locs = ax.xaxis.get_ticklocs()[1:-1]\n",
    "plt.xticks(locs, df_normals.index, rotation=45, ha=\"right\")\n",
    "\n",
    "# Other formatting\n",
    "plt.xlim((locs[0], locs[-1]))\n",
    "plt.xlabel(\"Date\")\n",
    "plt.ylabel(\"Temperature (F)\")\n",
    "plt.title(\"Temperature Over Time\")\n",
    "plt.grid(linestyle='-', linewidth='0.5', color='lightgrey')\n",
    "ax.set_axisbelow(True)\n",
    "plt.savefig('Resources/daily_normals.png', bbox_inches=\"tight\", dpi = 300)"
   ]
  },
  {
   "cell_type": "code",
   "execution_count": null,
   "metadata": {},
   "outputs": [],
   "source": []
  }
 ],
 "metadata": {
  "kernelspec": {
   "display_name": "Python 3",
   "language": "python",
   "name": "python3"
  },
  "language_info": {
   "codemirror_mode": {
    "name": "ipython",
    "version": 3
   },
   "file_extension": ".py",
   "mimetype": "text/x-python",
   "name": "python",
   "nbconvert_exporter": "python",
   "pygments_lexer": "ipython3",
   "version": "3.7.4"
  }
 },
 "nbformat": 4,
 "nbformat_minor": 2
}
